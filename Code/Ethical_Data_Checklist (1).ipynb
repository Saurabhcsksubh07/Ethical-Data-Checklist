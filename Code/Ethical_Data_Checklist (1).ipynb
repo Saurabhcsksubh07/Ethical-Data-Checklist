{
 "cells": [
  {
   "cell_type": "code",
   "execution_count": 4,
   "id": "ab38e01d-f85f-4844-aa5b-223e68da8c25",
   "metadata": {},
   "outputs": [
    {
     "name": "stdout",
     "output_type": "stream",
     "text": [
      "--- Data Analytics Ethics Self-Assessment ---\n",
      "Answer the following with 'Yes' or 'No'.\n",
      "\n"
     ]
    },
    {
     "name": "stdin",
     "output_type": "stream",
     "text": [
      "1. Did you anonymize or de-identify personal data where possible?\n",
      ">  Yes\n"
     ]
    },
    {
     "name": "stdout",
     "output_type": "stream",
     "text": [
      "\n"
     ]
    },
    {
     "name": "stdin",
     "output_type": "stream",
     "text": [
      "2. Did you obtain explicit and informed consent for data collection and use?\n",
      ">  Yes\n"
     ]
    },
    {
     "name": "stdout",
     "output_type": "stream",
     "text": [
      "\n"
     ]
    },
    {
     "name": "stdin",
     "output_type": "stream",
     "text": [
      "3. Is your data collection limited to only what is necessary for the project's purpose?\n",
      ">  Yes\n"
     ]
    },
    {
     "name": "stdout",
     "output_type": "stream",
     "text": [
      "\n"
     ]
    },
    {
     "name": "stdin",
     "output_type": "stream",
     "text": [
      "4. Have you checked your dataset for potential biases (e.g., gender, racial)?\n",
      ">  Yes\n"
     ]
    },
    {
     "name": "stdout",
     "output_type": "stream",
     "text": [
      "\n"
     ]
    },
    {
     "name": "stdin",
     "output_type": "stream",
     "text": [
      "5. Is the data stored securely with access controls in place?\n",
      ">  Yes\n"
     ]
    },
    {
     "name": "stdout",
     "output_type": "stream",
     "text": [
      "\n"
     ]
    },
    {
     "name": "stdin",
     "output_type": "stream",
     "text": [
      "6. Do you have a clear policy for data retention and deletion?\n",
      ">  Yes\n"
     ]
    },
    {
     "name": "stdout",
     "output_type": "stream",
     "text": [
      "\n"
     ]
    },
    {
     "name": "stdin",
     "output_type": "stream",
     "text": [
      "7. Are the results of your analysis communicated in a fair and not misleading way?\n",
      ">  Yes\n"
     ]
    },
    {
     "name": "stdout",
     "output_type": "stream",
     "text": [
      "\n"
     ]
    },
    {
     "name": "stdin",
     "output_type": "stream",
     "text": [
      "8. Is there a clear way for individuals to request access to or deletion of their data?\n",
      ">  Yes\n"
     ]
    },
    {
     "name": "stdout",
     "output_type": "stream",
     "text": [
      "\n"
     ]
    },
    {
     "name": "stdin",
     "output_type": "stream",
     "text": [
      "9. Was the model's fairness and potential for discriminatory outcomes evaluated?\n",
      ">  Yes\n"
     ]
    },
    {
     "name": "stdout",
     "output_type": "stream",
     "text": [
      "\n"
     ]
    },
    {
     "name": "stdin",
     "output_type": "stream",
     "text": [
      "10. Is the purpose of the data analysis clearly beneficial and not harmful?\n",
      ">  Yes\n"
     ]
    },
    {
     "name": "stdout",
     "output_type": "stream",
     "text": [
      "\n",
      "------------------------------------------\n",
      "             Assessment Report            \n",
      "------------------------------------------\n",
      "Ethics score: 10/10\n",
      "Message: Compliant\n",
      "------------------------------------------\n"
     ]
    }
   ],
   "source": [
    "# Project: Ethical Data Use Checklist\n",
    "# Author: [Saurabh Rai]\n",
    "# Date: 19-Aug-2025\n",
    "# Description: A command-line tool to self-assess the ethical compliance\n",
    "#              of a data analytics project, based on a predefined checklist.\n",
    "\n",
    "# --- Program Configuration ---\n",
    "ETHICS_CHECKS = [\n",
    "    \"1. Did you anonymize or de-identify personal data where possible?\",\n",
    "    \"2. Did you obtain explicit and informed consent for data collection and use?\",\n",
    "    \"3. Is your data collection limited to only what is necessary for the project's purpose?\",\n",
    "    \"4. Have you checked your dataset for potential biases (e.g., gender, racial)?\",\n",
    "    \"5. Is the data stored securely with access controls in place?\",\n",
    "    \"6. Do you have a clear policy for data retention and deletion?\",\n",
    "    \"7. Are the results of your analysis communicated in a fair and not misleading way?\",\n",
    "    \"8. Is there a clear way for individuals to request access to or deletion of their data?\",\n",
    "    \"9. Was the model's fairness and potential for discriminatory outcomes evaluated?\",\n",
    "    \"10. Is the purpose of the data analysis clearly beneficial and not harmful?\"\n",
    "]\n",
    "ACCEPTABLE_YES = {'yes', 'y'}\n",
    "ACCEPTABLE_NO = {'no', 'n'}\n",
    "\n",
    "# --- Core Functions ---\n",
    "def start_checklist():\n",
    "    \"\"\"\n",
    "    Runs the main interactive checklist for the user.\n",
    "    Returns a list of answers (True for yes, False for no).\n",
    "    \"\"\"\n",
    "    print(\"--- Data Analytics Ethics Self-Assessment ---\")\n",
    "    print(\"Answer the following with 'Yes' or 'No'.\\n\")\n",
    "    \n",
    "    user_choices = []\n",
    "    \n",
    "    for check in ETHICS_CHECKS:\n",
    "        while True:\n",
    "            reply = input(f\"{check}\\n> \").lower().strip()\n",
    "            \n",
    "            if reply in ACCEPTABLE_YES or reply in ACCEPTABLE_NO:\n",
    "                user_choices.append(reply in ACCEPTABLE_YES)\n",
    "                print()\n",
    "                break\n",
    "            else:\n",
    "                print(\"--> Please use 'Yes' or 'No'.\")\n",
    "                \n",
    "    return user_choices\n",
    "\n",
    "def create_final_report(choices):\n",
    "    \"\"\"\n",
    "    Analyzes the user's choices and prints the formatted summary.\n",
    "    \"\"\"\n",
    "    compliance_score = 0\n",
    "    points_to_address = []\n",
    "    \n",
    "    for i, choice_was_yes in enumerate(choices):\n",
    "        if choice_was_yes:\n",
    "            compliance_score += 1\n",
    "        else:\n",
    "            failed_check_text = ETHICS_CHECKS[i]\n",
    "            points_to_address.append(failed_check_text)\n",
    "            \n",
    "    print(\"------------------------------------------\")\n",
    "    print(\"             Assessment Report            \")\n",
    "    print(\"------------------------------------------\")\n",
    "    \n",
    "    total_checks = len(ETHICS_CHECKS)\n",
    "    print(f\"Ethics score: {compliance_score}/{total_checks}\")\n",
    "    \n",
    "    if compliance_score == total_checks:\n",
    "        print(\"Message: Compliant\")\n",
    "    else:\n",
    "        print(\"Message: Needs Attention\")\n",
    "        print(\"\\nList of unchecked items:\")\n",
    "        for point in points_to_address:\n",
    "            print(f\"- {point}\")\n",
    "            \n",
    "    print(\"------------------------------------------\")\n",
    "\n",
    "\n",
    "# --- Program Execution ---\n",
    "def main():\n",
    "    all_answers = start_checklist()\n",
    "    create_final_report(all_answers)\n",
    "\n",
    "\n",
    "if __name__ == \"__main__\":\n",
    "    main()\n"
   ]
  },
  {
   "cell_type": "code",
   "execution_count": 1,
   "id": "3c9d2ee3-95d8-41cd-a1ab-2621f8a47646",
   "metadata": {},
   "outputs": [
    {
     "name": "stdout",
     "output_type": "stream",
     "text": [
      "--- Data Analytics Ethics Self-Assessment ---\n",
      "Answer the following with 'Yes' or 'No'.\n",
      "\n"
     ]
    },
    {
     "name": "stdin",
     "output_type": "stream",
     "text": [
      "1. Did you anonymize or de-identify personal data where possible?\n",
      ">  Yes\n"
     ]
    },
    {
     "name": "stdout",
     "output_type": "stream",
     "text": [
      "\n"
     ]
    },
    {
     "name": "stdin",
     "output_type": "stream",
     "text": [
      "2. Did you obtain explicit and informed consent for data collection and use?\n",
      ">  NO\n"
     ]
    },
    {
     "name": "stdout",
     "output_type": "stream",
     "text": [
      "\n"
     ]
    },
    {
     "name": "stdin",
     "output_type": "stream",
     "text": [
      "3. Is your data collection limited to only what is necessary for the project's purpose?\n",
      ">  Yes\n"
     ]
    },
    {
     "name": "stdout",
     "output_type": "stream",
     "text": [
      "\n"
     ]
    },
    {
     "name": "stdin",
     "output_type": "stream",
     "text": [
      "4. Have you checked your dataset for potential biases (e.g., gender, racial)?\n",
      ">  No\n"
     ]
    },
    {
     "name": "stdout",
     "output_type": "stream",
     "text": [
      "\n"
     ]
    },
    {
     "name": "stdin",
     "output_type": "stream",
     "text": [
      "5. Is the data stored securely with access controls in place?\n",
      ">  Yes\n"
     ]
    },
    {
     "name": "stdout",
     "output_type": "stream",
     "text": [
      "\n"
     ]
    },
    {
     "name": "stdin",
     "output_type": "stream",
     "text": [
      "6. Do you have a clear policy for data retention and deletion?\n",
      ">  Yes\n"
     ]
    },
    {
     "name": "stdout",
     "output_type": "stream",
     "text": [
      "\n"
     ]
    },
    {
     "name": "stdin",
     "output_type": "stream",
     "text": [
      "7. Are the results of your analysis communicated in a fair and not misleading way?\n",
      ">  Yes\n"
     ]
    },
    {
     "name": "stdout",
     "output_type": "stream",
     "text": [
      "\n"
     ]
    },
    {
     "name": "stdin",
     "output_type": "stream",
     "text": [
      "8. Is there a clear way for individuals to request access to or deletion of their data?\n",
      ">  Yes\n"
     ]
    },
    {
     "name": "stdout",
     "output_type": "stream",
     "text": [
      "\n"
     ]
    },
    {
     "name": "stdin",
     "output_type": "stream",
     "text": [
      "9. Was the model's fairness and potential for discriminatory outcomes evaluated?\n",
      ">  No\n"
     ]
    },
    {
     "name": "stdout",
     "output_type": "stream",
     "text": [
      "\n"
     ]
    },
    {
     "name": "stdin",
     "output_type": "stream",
     "text": [
      "10. Is the purpose of the data analysis clearly beneficial and not harmful?\n",
      ">  Yes\n"
     ]
    },
    {
     "name": "stdout",
     "output_type": "stream",
     "text": [
      "\n",
      "------------------------------------------\n",
      "             Assessment Report            \n",
      "------------------------------------------\n",
      "Ethics score: 7/10\n",
      "Message: Needs Attention\n",
      "\n",
      "List of unchecked items:\n",
      "- 2. Did you obtain explicit and informed consent for data collection and use?\n",
      "- 4. Have you checked your dataset for potential biases (e.g., gender, racial)?\n",
      "- 9. Was the model's fairness and potential for discriminatory outcomes evaluated?\n",
      "------------------------------------------\n"
     ]
    }
   ],
   "source": [
    "# --- Program Configuration ---\n",
    "ETHICS_CHECKS = [\n",
    "    \"1. Did you anonymize or de-identify personal data where possible?\",\n",
    "    \"2. Did you obtain explicit and informed consent for data collection and use?\",\n",
    "    \"3. Is your data collection limited to only what is necessary for the project's purpose?\",\n",
    "    \"4. Have you checked your dataset for potential biases (e.g., gender, racial)?\",\n",
    "    \"5. Is the data stored securely with access controls in place?\",\n",
    "    \"6. Do you have a clear policy for data retention and deletion?\",\n",
    "    \"7. Are the results of your analysis communicated in a fair and not misleading way?\",\n",
    "    \"8. Is there a clear way for individuals to request access to or deletion of their data?\",\n",
    "    \"9. Was the model's fairness and potential for discriminatory outcomes evaluated?\",\n",
    "    \"10. Is the purpose of the data analysis clearly beneficial and not harmful?\"\n",
    "]\n",
    "ACCEPTABLE_YES = {'yes', 'y'}\n",
    "ACCEPTABLE_NO = {'no', 'n'}\n",
    "\n",
    "# --- Core Functions ---\n",
    "def start_checklist():\n",
    "    \"\"\"\n",
    "    Runs the main interactive checklist for the user.\n",
    "    Returns a list of answers (True for yes, False for no).\n",
    "    \"\"\"\n",
    "    print(\"--- Data Analytics Ethics Self-Assessment ---\")\n",
    "    print(\"Answer the following with 'Yes' or 'No'.\\n\")\n",
    "    \n",
    "    user_choices = []\n",
    "    \n",
    "    for check in ETHICS_CHECKS:\n",
    "        while True:\n",
    "            reply = input(f\"{check}\\n> \").lower().strip()\n",
    "            \n",
    "            if reply in ACCEPTABLE_YES or reply in ACCEPTABLE_NO:\n",
    "                user_choices.append(reply in ACCEPTABLE_YES)\n",
    "                print()\n",
    "                break\n",
    "            else:\n",
    "                print(\"--> Please use 'Yes' or 'No'.\")\n",
    "                \n",
    "    return user_choices\n",
    "\n",
    "def create_final_report(choices):\n",
    "    \"\"\"\n",
    "    Analyzes the user's choices and prints the formatted summary.\n",
    "    \"\"\"\n",
    "    compliance_score = 0\n",
    "    points_to_address = []\n",
    "    \n",
    "    for i, choice_was_yes in enumerate(choices):\n",
    "        if choice_was_yes:\n",
    "            compliance_score += 1\n",
    "        else:\n",
    "            failed_check_text = ETHICS_CHECKS[i]\n",
    "            points_to_address.append(failed_check_text)\n",
    "            \n",
    "    print(\"------------------------------------------\")\n",
    "    print(\"             Assessment Report            \")\n",
    "    print(\"------------------------------------------\")\n",
    "    \n",
    "    total_checks = len(ETHICS_CHECKS)\n",
    "    print(f\"Ethics score: {compliance_score}/{total_checks}\")\n",
    "    \n",
    "    if compliance_score == total_checks:\n",
    "        print(\"Message: Compliant\")\n",
    "    else:\n",
    "        print(\"Message: Needs Attention\")\n",
    "        print(\"\\nList of unchecked items:\")\n",
    "        for point in points_to_address:\n",
    "            print(f\"- {point}\")\n",
    "            \n",
    "    print(\"------------------------------------------\")\n",
    "\n",
    "\n",
    "# --- Program Execution ---\n",
    "def main():\n",
    "    all_answers = start_checklist()\n",
    "    create_final_report(all_answers)\n",
    "\n",
    "\n",
    "if __name__ == \"__main__\":\n",
    "    main()\n"
   ]
  },
  {
   "cell_type": "code",
   "execution_count": 3,
   "id": "7f850835-7073-4c0e-9f7d-a9aee1d5f769",
   "metadata": {},
   "outputs": [
    {
     "name": "stdout",
     "output_type": "stream",
     "text": [
      "C:\\ProgramData\\anaconda3\\python.exe\n"
     ]
    }
   ],
   "source": [
    "import sys\n",
    "print(sys.executable)"
   ]
  },
  {
   "cell_type": "code",
   "execution_count": null,
   "id": "9a2dd0e2-5534-4bcf-8bd5-f30c23f3bd34",
   "metadata": {},
   "outputs": [],
   "source": []
  }
 ],
 "metadata": {
  "kernelspec": {
   "display_name": "Python 3 (ipykernel)",
   "language": "python",
   "name": "python3"
  },
  "language_info": {
   "codemirror_mode": {
    "name": "ipython",
    "version": 3
   },
   "file_extension": ".py",
   "mimetype": "text/x-python",
   "name": "python",
   "nbconvert_exporter": "python",
   "pygments_lexer": "ipython3",
   "version": "3.12.7"
  }
 },
 "nbformat": 4,
 "nbformat_minor": 5
}
